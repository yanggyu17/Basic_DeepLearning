{
 "cells": [
  {
   "cell_type": "code",
   "execution_count": 1,
   "metadata": {},
   "outputs": [
    {
     "name": "stderr",
     "output_type": "stream",
     "text": [
      "/Library/Frameworks/Python.framework/Versions/3.5/lib/python3.5/site-packages/h5py/__init__.py:36: FutureWarning: Conversion of the second argument of issubdtype from `float` to `np.floating` is deprecated. In future, it will be treated as `np.float64 == np.dtype(float).type`.\n",
      "  from ._conv import register_converters as _register_converters\n"
     ]
    }
   ],
   "source": [
    "import tensorflow as tf\n",
    "import numpy as np"
   ]
  },
  {
   "cell_type": "code",
   "execution_count": 2,
   "metadata": {
    "collapsed": true
   },
   "outputs": [],
   "source": [
    "data = np.loadtxt('./data.csv', delimiter=',',\n",
    "                 unpack=True, dtype='float32')\n",
    "\n",
    "x_data = np.transpose(data[0:2])\n",
    "y_data = np.transpose(data[2:])"
   ]
  },
  {
   "cell_type": "code",
   "execution_count": 4,
   "metadata": {},
   "outputs": [],
   "source": [
    "global_step = tf.Variable(0, trainable=False, name='global_step')"
   ]
  },
  {
   "cell_type": "code",
   "execution_count": 6,
   "metadata": {},
   "outputs": [],
   "source": [
    "X = tf.placeholder(tf.float32)\n",
    "Y = tf.placeholder(tf.float32)\n",
    "\n",
    "W1 = tf.Variable(tf.random_uniform([2, 10], -1., 1.))\n",
    "L1 = tf.nn.relu(tf.matmul(X, W1))\n",
    "\n",
    "W2 = tf.Variable(tf.random_uniform([10, 20], -1., 1.))\n",
    "L2 = tf.nn.relu(tf.matmul(L1, W2))\n",
    "\n",
    "W3 = tf.Variable(tf.random_uniform([20, 3], -1., 1.))\n",
    "model = tf.matmul(L2, W3)\n",
    "\n",
    "cost = tf.reduce_mean(\n",
    "    tf.nn.softmax_cross_entropy_with_logits(labels=Y,\n",
    "                                           logits=model))\n",
    "optimizer = tf.train.AdamOptimizer(learning_rate=0.01)\n",
    "train_op = optimizer.minimize(cost, global_step=global_step)"
   ]
  },
  {
   "cell_type": "markdown",
   "metadata": {},
   "source": [
    "### 신경망 모델 학습"
   ]
  },
  {
   "cell_type": "code",
   "execution_count": 8,
   "metadata": {},
   "outputs": [],
   "source": [
    "sess = tf.Session()\n",
    "saver = tf.train.Saver(tf.global_variables())"
   ]
  },
  {
   "cell_type": "code",
   "execution_count": 18,
   "metadata": {},
   "outputs": [
    {
     "name": "stdout",
     "output_type": "stream",
     "text": [
      "INFO:tensorflow:Restoring parameters from ./model/dnn.ckpy-4\n"
     ]
    }
   ],
   "source": [
    "# ./model 디렉터리에 기존에 학습해둔 모델이 있으면 학습된 값들을 불러오고\n",
    "# 아니면 변수를 새로 초기화 한다.\n",
    "\n",
    "ckpt = tf.train.get_checkpoint_state('./model')\n",
    "if ckpt and tf.train.checkpoint_exists(ckpt.model_checkpoint_path):\n",
    "    saver.restore(sess, ckpt.model_checkpoint_path)\n",
    "else:\n",
    "    sess.run(tf.global_variables_initializer())"
   ]
  },
  {
   "cell_type": "code",
   "execution_count": 21,
   "metadata": {},
   "outputs": [
    {
     "name": "stdout",
     "output_type": "stream",
     "text": [
      "Step: 5,  Cost: 1.138\n",
      "Step: 6,  Cost: 1.063\n"
     ]
    }
   ],
   "source": [
    "for step in range(2):\n",
    "    sess.run(train_op, feed_dict={X: x_data, Y: y_data})\n",
    "    \n",
    "    print('Step: %d, ' % sess.run(global_step),\n",
    "         'Cost: %.3f' % sess.run(cost, feed_dict={X: x_data, Y: y_data}))"
   ]
  },
  {
   "cell_type": "code",
   "execution_count": 15,
   "metadata": {},
   "outputs": [
    {
     "data": {
      "text/plain": [
       "'./model/dnn.ckpy-4'"
      ]
     },
     "execution_count": 15,
     "metadata": {},
     "output_type": "execute_result"
    }
   ],
   "source": [
    "saver.save(sess, './model/dnn.ckpy', global_step=global_step)"
   ]
  },
  {
   "cell_type": "code",
   "execution_count": 22,
   "metadata": {},
   "outputs": [
    {
     "name": "stdout",
     "output_type": "stream",
     "text": [
      "예측값: [0 2 2 0 0 2]\n",
      "실제값: [0 1 2 0 0 2]\n"
     ]
    }
   ],
   "source": [
    "prediction = tf.argmax(model, 1)\n",
    "target = tf.argmax(Y, 1)\n",
    "\n",
    "print('예측값:', sess.run(prediction, feed_dict={X: x_data}))\n",
    "print('실제값:', sess.run(target, feed_dict={Y: y_data}))\n"
   ]
  },
  {
   "cell_type": "code",
   "execution_count": 23,
   "metadata": {},
   "outputs": [
    {
     "name": "stdout",
     "output_type": "stream",
     "text": [
      "정확도: 83.33\n"
     ]
    }
   ],
   "source": [
    "is_correct = tf.equal(prediction, target)\n",
    "accuracy = tf.reduce_mean(tf.cast(is_correct, tf.float32))\n",
    "print('정확도: %.2f' % sess.run(accuracy * 100, feed_dict={X: x_data,\n",
    "                                                       Y: y_data}))"
   ]
  },
  {
   "cell_type": "markdown",
   "metadata": {},
   "source": [
    "## 텐서보드 사용하기"
   ]
  },
  {
   "cell_type": "code",
   "execution_count": 5,
   "metadata": {},
   "outputs": [
    {
     "name": "stdout",
     "output_type": "stream",
     "text": [
      "Step: 1,  Cost: 0.810\n",
      "Step: 2,  Cost: 0.784\n",
      "Step: 3,  Cost: 0.760\n",
      "Step: 4,  Cost: 0.739\n",
      "Step: 5,  Cost: 0.722\n",
      "Step: 6,  Cost: 0.709\n",
      "Step: 7,  Cost: 0.696\n",
      "Step: 8,  Cost: 0.684\n",
      "Step: 9,  Cost: 0.672\n",
      "Step: 10,  Cost: 0.662\n",
      "Step: 11,  Cost: 0.652\n",
      "Step: 12,  Cost: 0.643\n",
      "Step: 13,  Cost: 0.635\n",
      "Step: 14,  Cost: 0.627\n",
      "Step: 15,  Cost: 0.619\n",
      "Step: 16,  Cost: 0.613\n",
      "Step: 17,  Cost: 0.607\n",
      "Step: 18,  Cost: 0.601\n",
      "Step: 19,  Cost: 0.597\n",
      "Step: 20,  Cost: 0.592\n",
      "Step: 21,  Cost: 0.588\n",
      "Step: 22,  Cost: 0.584\n",
      "Step: 23,  Cost: 0.580\n",
      "Step: 24,  Cost: 0.577\n",
      "Step: 25,  Cost: 0.574\n",
      "Step: 26,  Cost: 0.571\n",
      "Step: 27,  Cost: 0.569\n",
      "Step: 28,  Cost: 0.567\n",
      "Step: 29,  Cost: 0.565\n",
      "Step: 30,  Cost: 0.563\n",
      "Step: 31,  Cost: 0.561\n",
      "Step: 32,  Cost: 0.560\n",
      "Step: 33,  Cost: 0.559\n",
      "Step: 34,  Cost: 0.558\n",
      "Step: 35,  Cost: 0.557\n",
      "Step: 36,  Cost: 0.556\n",
      "Step: 37,  Cost: 0.556\n",
      "Step: 38,  Cost: 0.555\n",
      "Step: 39,  Cost: 0.554\n",
      "Step: 40,  Cost: 0.554\n",
      "Step: 41,  Cost: 0.554\n",
      "Step: 42,  Cost: 0.553\n",
      "Step: 43,  Cost: 0.553\n",
      "Step: 44,  Cost: 0.553\n",
      "Step: 45,  Cost: 0.552\n",
      "Step: 46,  Cost: 0.552\n",
      "Step: 47,  Cost: 0.552\n",
      "Step: 48,  Cost: 0.552\n",
      "Step: 49,  Cost: 0.552\n",
      "Step: 50,  Cost: 0.551\n",
      "Step: 51,  Cost: 0.551\n",
      "Step: 52,  Cost: 0.551\n",
      "Step: 53,  Cost: 0.551\n",
      "Step: 54,  Cost: 0.551\n",
      "Step: 55,  Cost: 0.551\n",
      "Step: 56,  Cost: 0.551\n",
      "Step: 57,  Cost: 0.551\n",
      "Step: 58,  Cost: 0.551\n",
      "Step: 59,  Cost: 0.551\n",
      "Step: 60,  Cost: 0.551\n",
      "Step: 61,  Cost: 0.551\n",
      "Step: 62,  Cost: 0.550\n",
      "Step: 63,  Cost: 0.550\n",
      "Step: 64,  Cost: 0.550\n",
      "Step: 65,  Cost: 0.550\n",
      "Step: 66,  Cost: 0.550\n",
      "Step: 67,  Cost: 0.550\n",
      "Step: 68,  Cost: 0.550\n",
      "Step: 69,  Cost: 0.550\n",
      "Step: 70,  Cost: 0.550\n",
      "Step: 71,  Cost: 0.550\n",
      "Step: 72,  Cost: 0.550\n",
      "Step: 73,  Cost: 0.550\n",
      "Step: 74,  Cost: 0.550\n",
      "Step: 75,  Cost: 0.550\n",
      "Step: 76,  Cost: 0.550\n",
      "Step: 77,  Cost: 0.550\n",
      "Step: 78,  Cost: 0.550\n",
      "Step: 79,  Cost: 0.550\n",
      "Step: 80,  Cost: 0.550\n",
      "Step: 81,  Cost: 0.550\n",
      "Step: 82,  Cost: 0.550\n",
      "Step: 83,  Cost: 0.550\n",
      "Step: 84,  Cost: 0.550\n",
      "Step: 85,  Cost: 0.550\n",
      "Step: 86,  Cost: 0.550\n",
      "Step: 87,  Cost: 0.550\n",
      "Step: 88,  Cost: 0.550\n",
      "Step: 89,  Cost: 0.550\n",
      "Step: 90,  Cost: 0.550\n",
      "Step: 91,  Cost: 0.550\n",
      "Step: 92,  Cost: 0.550\n",
      "Step: 93,  Cost: 0.550\n",
      "Step: 94,  Cost: 0.550\n",
      "Step: 95,  Cost: 0.550\n",
      "Step: 96,  Cost: 0.550\n",
      "Step: 97,  Cost: 0.550\n",
      "Step: 98,  Cost: 0.550\n",
      "Step: 99,  Cost: 0.550\n",
      "Step: 100,  Cost: 0.550\n",
      "예측값: [0 1 2 0 0 2]\n",
      "실제값: [0 1 2 0 0 2]\n",
      "정확도: 100.00\n"
     ]
    }
   ],
   "source": [
    "import tensorflow as tf\n",
    "import numpy as np\n",
    "\n",
    "tf.reset_default_graph()\n",
    "\n",
    "data = np.loadtxt('./data.csv', delimiter=',',\n",
    "                 unpack=True, dtype='float32')\n",
    "\n",
    "x_data = np.transpose(data[0:2])\n",
    "y_data = np.transpose(data[2:])\n",
    "\n",
    "global_step = tf.Variable(0, trainable=False, name='global_step')\n",
    "\n",
    "X = tf.placeholder(tf.float32)\n",
    "Y = tf.placeholder(tf.float32)\n",
    "\n",
    "with tf.name_scope('layer1'):\n",
    "    W1 = tf.Variable(tf.random_uniform([2, 10], -1., 1.), name='W1')\n",
    "    L1 = tf.nn.relu(tf.matmul(X, W1))\n",
    "    tf.summary.histogram(\"Weights\", W1)\n",
    "\n",
    "with tf.name_scope('layer2'):\n",
    "    W2 = tf.Variable(tf.random_uniform([10, 20], -1., 1.), name='W2')\n",
    "    L2 = tf.nn.relu(tf.matmul(L1, W2))\n",
    "\n",
    "with tf.name_scope('output'):\n",
    "    W3 = tf.Variable(tf.random_uniform([20, 3], -1., 1.), name='W3')\n",
    "    model = tf.matmul(L2, W3)\n",
    "    \n",
    "with tf.name_scope('optimizer'):\n",
    "    cost = tf.reduce_mean(\n",
    "        tf.nn.softmax_cross_entropy_with_logits(labels=Y,\n",
    "                                               logits=model))\n",
    "    optimizer = tf.train.AdamOptimizer(learning_rate=0.01)\n",
    "    train_op = optimizer.minimize(cost, global_step=global_step)\n",
    "    \n",
    "    tf.summary.scalar('cost', cost)\n",
    "\n",
    "sess = tf.Session()\n",
    "saver = tf.train.Saver(tf.global_variables())\n",
    "\n",
    "ckpt = tf.train.get_checkpoint_state('./model')\n",
    "if ckpt and tf.train.checkpoint_exists(ckpt.model_checkpoint_path):\n",
    "    saver.restore(sess, ckpt.model_checkpoint_path)\n",
    "else:\n",
    "    sess.run(tf.global_variables_initializer())\n",
    "    \n",
    "merged = tf.summary.merge_all()\n",
    "writer = tf.summary.FileWriter('./logs', sess.graph)\n",
    "\n",
    "for step in range(100):\n",
    "    sess.run(train_op, feed_dict={X: x_data, Y: y_data})\n",
    "    \n",
    "    print('Step: %d, ' % sess.run(global_step), \n",
    "         'Cost: %.3f' % sess.run(cost, feed_dict={X: x_data, Y: y_data}))\n",
    "\n",
    "    summary = sess.run(merged, feed_dict={X: x_data, Y: y_data})\n",
    "    writer.add_summary(summary, global_step=sess.run(global_step))\n",
    "    \n",
    "\n",
    "saver.save(sess, './model/dnn.ckpt', global_step=global_step)\n",
    "\n",
    "prediction = tf.argmax(model, 1)\n",
    "target = tf.argmax(Y, 1)\n",
    "print('예측값:', sess.run(prediction, feed_dict={X: x_data}))\n",
    "print('실제값:', sess.run(target, feed_dict={Y: y_data}))\n",
    "\n",
    "is_correct = tf.equal(prediction, target)\n",
    "accuracy = tf.reduce_mean(tf.cast(is_correct, tf.float32))\n",
    "print('정확도: %.2f' % sess.run(accuracy * 100, feed_dict={X: x_data, Y: y_data}))\n",
    "    \n",
    "    \n",
    "\n"
   ]
  },
  {
   "cell_type": "code",
   "execution_count": null,
   "metadata": {
    "collapsed": true
   },
   "outputs": [],
   "source": []
  }
 ],
 "metadata": {
  "kernelspec": {
   "display_name": "Python 3",
   "language": "python",
   "name": "python3"
  },
  "language_info": {
   "codemirror_mode": {
    "name": "ipython",
    "version": 3
   },
   "file_extension": ".py",
   "mimetype": "text/x-python",
   "name": "python",
   "nbconvert_exporter": "python",
   "pygments_lexer": "ipython3",
   "version": "3.5.1"
  }
 },
 "nbformat": 4,
 "nbformat_minor": 2
}
